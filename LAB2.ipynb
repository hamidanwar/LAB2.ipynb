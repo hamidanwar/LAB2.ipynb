{
  "nbformat": 4,
  "nbformat_minor": 0,
  "metadata": {
    "colab": {
      "provenance": [],
      "collapsed_sections": [
        "iGaRLvTA7M5u",
        "WYV99Ig37Wq9"
      ]
    },
    "kernelspec": {
      "name": "python3",
      "display_name": "Python 3"
    },
    "language_info": {
      "name": "python"
    }
  },
  "cells": [
    {
      "cell_type": "code",
      "execution_count": null,
      "metadata": {
        "id": "tQ5IDf9i7Ib1"
      },
      "outputs": [],
      "source": []
    },
    {
      "cell_type": "markdown",
      "source": [
        "## **Task 1: Lists**"
      ],
      "metadata": {
        "id": "iGaRLvTA7M5u"
      }
    },
    {
      "cell_type": "code",
      "source": [
        "# Integers List Created\n",
        "integers_list = [12, 7, -3, 56, 0, 21, -9, 34, 8, -15]\n",
        "print(integers_list)\n",
        "\n",
        "integers_list = [12, 7, -3, 56, 0, 21, -9, 34, 8, -15]\n",
        "\n",
        "# Calculating sum, max, and min\n",
        "sum_of_integers = sum(integers_list)\n",
        "max_value = max(integers_list)\n",
        "min_value = min(integers_list)\n",
        "\n",
        "# Printing individually\n",
        "print(\"Sum:\", sum_of_integers)\n",
        "print(\"Max:\", max_value)\n",
        "print(\"Min:\", min_value)\n",
        "\n",
        "# Initial list\n",
        "integers_list = [12, 7, -3, 56, 0, 21, -9, 34, 8, -15]\n",
        "\n",
        "# 1. Add a new element (e.g., 99) to the list\n",
        "integers_list.append(99)\n",
        "print(\"After adding 99:\", integers_list)\n",
        "\n",
        "# 2. Remove an existing element (e.g., remove -9)\n",
        "integers_list.remove(-9)\n",
        "print(\"After removing -9:\", integers_list)\n",
        "\n",
        "# 3. Append the list to another list (e.g., adding a second list)\n",
        "new_list = [100, -50, 23]\n",
        "integers_list.extend(new_list)\n",
        "print(\"After appending another list:\", integers_list)\n",
        "\n",
        "integers_list = [12, 7, -3, 56, 0, 21, 34, 8, -15, 99, 100, -50, 23]\n",
        "\n",
        "# Sort in ascending order\n",
        "integers_list.sort()\n",
        "print(\"Ascending order:\", integers_list)\n",
        "\n",
        "# Sort in descending order\n",
        "integers_list.sort(reverse=True)\n",
        "print(\"Descending order:\", integers_list)\n"
      ],
      "metadata": {
        "colab": {
          "base_uri": "https://localhost:8080/"
        },
        "id": "GFcZ0UbWCHEE",
        "outputId": "ee033032-e69e-4e9d-d7a8-b87415547985"
      },
      "execution_count": 7,
      "outputs": [
        {
          "output_type": "stream",
          "name": "stdout",
          "text": [
            "[12, 7, -3, 56, 0, 21, -9, 34, 8, -15]\n",
            "Sum: 111\n",
            "Max: 56\n",
            "Min: -15\n",
            "After adding 99: [12, 7, -3, 56, 0, 21, -9, 34, 8, -15, 99]\n",
            "After removing -9: [12, 7, -3, 56, 0, 21, 34, 8, -15, 99]\n",
            "After appending another list: [12, 7, -3, 56, 0, 21, 34, 8, -15, 99, 100, -50, 23]\n",
            "Ascending order: [-50, -15, -3, 0, 7, 8, 12, 21, 23, 34, 56, 99, 100]\n",
            "Descending order: [100, 99, 56, 34, 23, 21, 12, 8, 7, 0, -3, -15, -50]\n"
          ]
        }
      ]
    },
    {
      "cell_type": "markdown",
      "source": [
        "# **Task 2: Tuples**"
      ],
      "metadata": {
        "id": "WYV99Ig37Wq9"
      }
    },
    {
      "cell_type": "code",
      "source": [
        "# Creating a tuple with 5 string elements (names)\n",
        "my_tuple = (\"Liam\", \"Emma\", \"Noah\", \"Olivia\", \"Ava\")\n",
        "\n",
        "# Printing the second element (index 1)\n",
        "print(\"Second element:\", my_tuple[1])  # Emma\n",
        "\n",
        "# Printing the last element (index -1)\n",
        "print(\"Last element:\", my_tuple[-1])   # Ava\n",
        "\n",
        "# Creating a tuple with 5 string elements\n",
        "my_tuple = (\"Liam\", \"Emma\", \"Noah\", \"Olivia\", \"Ava\")\n",
        "\n",
        "# Trying to modify the second element (index 1)\n",
        "my_tuple[1] = \"Sophia\"  # This will raise a TypeError\n",
        "\n",
        "\n"
      ],
      "metadata": {
        "colab": {
          "base_uri": "https://localhost:8080/",
          "height": 245
        },
        "id": "mPjsazrpGQVt",
        "outputId": "76cc345c-b116-4242-8ddd-35f5a823db05"
      },
      "execution_count": 14,
      "outputs": [
        {
          "output_type": "stream",
          "name": "stdout",
          "text": [
            "Second element: Emma\n",
            "Last element: Ava\n"
          ]
        },
        {
          "output_type": "error",
          "ename": "TypeError",
          "evalue": "'tuple' object does not support item assignment",
          "traceback": [
            "\u001b[0;31m---------------------------------------------------------------------------\u001b[0m",
            "\u001b[0;31mTypeError\u001b[0m                                 Traceback (most recent call last)",
            "\u001b[0;32m/tmp/ipython-input-442246153.py\u001b[0m in \u001b[0;36m<cell line: 0>\u001b[0;34m()\u001b[0m\n\u001b[1;32m     12\u001b[0m \u001b[0;34m\u001b[0m\u001b[0m\n\u001b[1;32m     13\u001b[0m \u001b[0;31m# Trying to modify the second element (index 1)\u001b[0m\u001b[0;34m\u001b[0m\u001b[0;34m\u001b[0m\u001b[0m\n\u001b[0;32m---> 14\u001b[0;31m \u001b[0mmy_tuple\u001b[0m\u001b[0;34m[\u001b[0m\u001b[0;36m1\u001b[0m\u001b[0;34m]\u001b[0m \u001b[0;34m=\u001b[0m \u001b[0;34m\"Sophia\"\u001b[0m  \u001b[0;31m# This will raise a TypeError\u001b[0m\u001b[0;34m\u001b[0m\u001b[0;34m\u001b[0m\u001b[0m\n\u001b[0m\u001b[1;32m     15\u001b[0m \u001b[0;34m\u001b[0m\u001b[0m\n\u001b[1;32m     16\u001b[0m \u001b[0;34m\u001b[0m\u001b[0m\n",
            "\u001b[0;31mTypeError\u001b[0m: 'tuple' object does not support item assignment"
          ]
        }
      ]
    },
    {
      "cell_type": "markdown",
      "source": [
        "# **Task 3: Sets**"
      ],
      "metadata": {
        "id": "xRW0yJ567YN1"
      }
    },
    {
      "cell_type": "code",
      "source": [
        "# Creating two sets\n",
        "set1 = {1, 2, 3, 4, 5}\n",
        "set2 = {4, 5, 6, 7, 8}\n",
        "\n",
        "# Sum of elements in each set\n",
        "sum_set1 = sum(set1)\n",
        "sum_set2 = sum(set2)\n",
        "\n",
        "# Common elements (intersection)\n",
        "common_elements = set1.intersection(set2)\n",
        "\n",
        "# Unique elements (symmetric difference: elements in either set but not both)\n",
        "unique_elements = set1.symmetric_difference(set2)\n",
        "\n",
        "# Printing the results\n",
        "print(\"Set 1:\", set1)\n",
        "print(\"Set 2:\", set2)\n",
        "print(\"Sum of Set 1:\", sum_set1)\n",
        "print(\"Sum of Set 2:\", sum_set2)\n",
        "print(\"Common elements:\", common_elements)\n",
        "print(\"Unique elements:\", unique_elements)\n"
      ],
      "metadata": {
        "colab": {
          "base_uri": "https://localhost:8080/"
        },
        "id": "mQagbg6rJiud",
        "outputId": "54a65114-2c78-49f2-b8cc-4b7b554bf047"
      },
      "execution_count": 15,
      "outputs": [
        {
          "output_type": "stream",
          "name": "stdout",
          "text": [
            "Set 1: {1, 2, 3, 4, 5}\n",
            "Set 2: {4, 5, 6, 7, 8}\n",
            "Sum of Set 1: 15\n",
            "Sum of Set 2: 30\n",
            "Common elements: {4, 5}\n",
            "Unique elements: {1, 2, 3, 6, 7, 8}\n"
          ]
        }
      ]
    },
    {
      "cell_type": "code",
      "source": [],
      "metadata": {
        "id": "iOrcNuVI9Exm"
      },
      "execution_count": null,
      "outputs": []
    },
    {
      "cell_type": "markdown",
      "source": [
        "# **Task 4: Dictionary**"
      ],
      "metadata": {
        "id": "XIFZl2fzB66E"
      }
    },
    {
      "cell_type": "code",
      "source": [
        "#create a dictionary of Friends and their marks\n",
        "Friend_marks = {\n",
        "    'Mudassir': 98,\n",
        "    'Imran': 92,\n",
        "    'Hammad': 78,\n",
        "    'Hanif': 95,\n",
        "    'Hamid': 88\n",
        "}\n",
        "\n",
        "#print the dictionary\n",
        "print('key',Friend_marks.keys())\n",
        "print('Values',Friend_marks.values())\n",
        "\n",
        "#update value\n",
        "Friend_marks['Hamid']=85\n",
        "print(Friend_marks)"
      ],
      "metadata": {
        "colab": {
          "base_uri": "https://localhost:8080/"
        },
        "id": "8gYuQIf0LKiE",
        "outputId": "35f5745d-5d5a-4c31-a09d-72e25c239421"
      },
      "execution_count": 22,
      "outputs": [
        {
          "output_type": "stream",
          "name": "stdout",
          "text": [
            "key dict_keys(['Mudassir', 'Imran', 'Hammad', 'Hanif', 'Hamid'])\n",
            "Values dict_values([98, 92, 78, 95, 88])\n",
            "{'Mudassir': 98, 'Imran': 92, 'Hammad': 78, 'Hanif': 95, 'Hamid': 85}\n"
          ]
        }
      ]
    },
    {
      "cell_type": "markdown",
      "source": [
        "# **Task 5: Numpy**"
      ],
      "metadata": {
        "id": "7iftQ6nV8TFl"
      }
    },
    {
      "cell_type": "markdown",
      "source": [
        "# **Task 6: Matpolitons**"
      ],
      "metadata": {
        "id": "4ZN25lnt8aj9"
      }
    }
  ]
}